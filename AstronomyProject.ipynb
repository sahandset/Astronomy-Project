{
  "nbformat": 4,
  "nbformat_minor": 0,
  "metadata": {
    "kernelspec": {
      "display_name": "Python 3",
      "language": "python",
      "name": "python3"
    },
    "language_info": {
      "codemirror_mode": {
        "name": "ipython",
        "version": 3
      },
      "file_extension": ".py",
      "mimetype": "text/x-python",
      "name": "python",
      "nbconvert_exporter": "python",
      "pygments_lexer": "ipython3",
      "version": "3.7.3"
    },
    "colab": {
      "name": "AstronomyProject.ipynb",
      "provenance": [],
      "collapsed_sections": [],
      "include_colab_link": true
    }
  },
  "cells": [
    {
      "cell_type": "markdown",
      "metadata": {
        "id": "view-in-github",
        "colab_type": "text"
      },
      "source": [
        "<a href=\"https://colab.research.google.com/github/sahandset/Astronomy-Project/blob/master/AstronomyProject.ipynb\" target=\"_parent\"><img src=\"https://colab.research.google.com/assets/colab-badge.svg\" alt=\"Open In Colab\"/></a>"
      ]
    },
    {
      "cell_type": "markdown",
      "metadata": {
        "id": "CNErjHluLjLe",
        "colab_type": "text"
      },
      "source": [
        "<font size = \"10\"> **Astronomy Project** <br>\n",
        "<font size = \"3\"> by William Dellinger and Sahand Setareh"
      ]
    },
    {
      "cell_type": "markdown",
      "metadata": {
        "id": "hS4U17VjLjLf",
        "colab_type": "text"
      },
      "source": [
        "We are both Computer Science students who wanted to do something creative with code as it would relate to this class. Seeing this final project as an opportunity to do astronomy research and integrate code together, we thought it would be really fun to create a solar system simulation using the Python language and Python astronomy  and numerical libraries and present the simulation alongside some research focused on the solar system we simulated. It was a really fun project and we're glad that we got to tie in aspects of our majors into this class!"
      ]
    },
    {
      "cell_type": "markdown",
      "metadata": {
        "id": "3PnTBsn8aAtQ",
        "colab_type": "text"
      },
      "source": [
        "Video of our simulation: https://youtu.be/1zhLoxhwsU4"
      ]
    },
    {
      "cell_type": "markdown",
      "metadata": {
        "id": "eBiKW_QXNFLC",
        "colab_type": "text"
      },
      "source": [
        "Our Source Code can be found at https://github.com/sahandset/Astronomy-Project"
      ]
    },
    {
      "cell_type": "markdown",
      "metadata": {
        "id": "ptGTuVTfLjLf",
        "colab_type": "text"
      },
      "source": [
        "<font size = \"5\">**MERCURY** <br>\n",
        "<font size = \"3\">**ATMOSPHERE** <br>\n",
        "<font size = \"2\">Mercury does not possess a thick atmosphere. Instead, it is a sparse exosphere composed of atoms that have been, quite literally, bombarded off of the planetary surface by powerful solar winds and charge particles. This thin blanket is composed of oxygen, sodium, hydrogen, helium and potassium. <br>\n",
        "<font size = \"3\">**HABITABILITY** <br>\n",
        "    <font size = \"2\">The conditions on mercury, largely characterized by intense temperature fluctuations and unrelenting solar radiation make it unlikely to harbor life. <br>\n",
        "<font size = \"3\">**COMPOSITION** <br>\n",
        "   <font size = \"2\"> Mercury is the second densest planet after Earth, It has a large metallic core that comprises about 85 percent of the planet’s radius. There is reason to believe that this core is partly molten. The outer shell of the planet is only about 250 miles thick. <br>\n",
        "<font size = \"3\">**MISSIONS** <br>\n",
        "<font size = \"2\">**Mariner 10 (November 3, 1973 - March 24, 1975)** <br>\n",
        "**Objectives: Mercury Flyby, Venus Flyby** <br>\n",
        "Mariner 10 performed a successful flyby of Venus enroute to Mercury where it became the first spacecraft to use the gravity of one planet (Venus) to reach another, all while being the first to visit the innermost planet of the solar system (Mercury). It studied the atmosphere and surface characteristics of Mercury, taking photos and using instrumentation such as a magnetometer to reveal a weak magnetic field. <br>\n",
        "**MESSENGER (August 3, 2004 - April 30, 2015)**<br>\n",
        "**Objectives: Mercury Orbit** <br>\n",
        "NASA’s MESSENGER spacecraft was tasked with a Mercury Flyby that resulted in extensive insight into the planet’s surface composition, geological history, details about the internal magnetic field, and insights into the polar water-ice deposits. <br>\n",
        "<font size = \"3\">**SATELLITES** <br>\n",
        "<font size = \"2\">    No satellites"
      ]
    },
    {
      "cell_type": "markdown",
      "metadata": {
        "id": "gNnKFrDPLjLg",
        "colab_type": "text"
      },
      "source": [
        "<font size = \"5\">**VENUS** <br>\n",
        "<font size = \"3\">**ATMOSPHERE** <br>\n",
        "<font size = \"2\">Venus possesses a hellish atmosphere - one that is mainly carbon dioxide and filled with sulfuric acid. With such atmospheric composition, the sun’s heat is retained throughout the various layers, causing extremely high temperatures. About 30 miles from the surface, where clouds begin, the temperature is roughly that of the surface temperature on Earth. The top level of clouds zips around the planet every four Earth days, driven by hurricane-force winds. <br>\n",
        "<font size = \"3\">**HABITABILITY** <br>\n",
        "    <font size = \"2\">With unrelenting temperatures and suffocating surface pressure, it is very unlikely that Venus harbors life, despite some bands in the atmosphere exhibiting mild enough temperatures believed to be suitable for life.<br>\n",
        "<font size = \"3\">**COMPOSITION** <br>\n",
        "   <font size = \"2\"> Venus is similar to Earth in many ways, one being its planetary composition. It has an iron core that is approximately 2000 miles in radius, surrounded by a mantle of hot rock. The surface is a thin crust of rock that has most if not all moisture baked from extreme temperatures caused by the atmosphere.  <br>\n",
        "<font size = \"3\">**MISSIONS** <br>\n",
        "<font size = \"2\"> **Mariner 1 (July 22, 1962 - July 22, 1962)** <br>\n",
        "**Objectives: Venus Flyby** <br>\n",
        "Mariner 1 was the very first attempt by the US to send a spacecraft to Venus, an attempt that was cut short after a problem after a problem with the guidance system made itself apparent and a self-destruct order was issued just shy of five minutes after launch. The error lay in the code - where a missing superscript hyphen resulted in mission failure, and is often dubbed “the most expensive hyphen in history”. <br>\n",
        "**Mariner 02 (August 27, 1962 - January 3, 1963)** <br>\n",
        "**Objectives: Venus Flyby** <br>\n",
        "Mariner 2 was the world’s first successful spacecraft mission! Mariner 2 flew by Venus and gathered valuable insight into the nuances of interplanetary space and the Venusian atmosphere. <br>\n",
        "**Mariner 05 (June 14, 1967 - November 5, 1968)** <br>\n",
        "**Objectives: Venus flyby, surface metrics** <br>\n",
        "Mariner 5 indicated that the surface temperature and pressure on Venus were 527 degrees Celsius and and 75 - 100 atmospheres. <br>\n",
        "**Mariner 10 (November 3, 1973 - March 24, 1975)** <br>\n",
        "**Objectives: Mercury Flyby, Venus Flyby** <br>\n",
        "**[Already detailed in the Mercury Section]** <br>\n",
        "First spacecraft to explore two planets during a single mission (Mercury and Venus)\n",
        "First probe to use the solar wind as a means of orientation during spaceflight <br>\n",
        "**Pioneer Venus 1 (May 20, 1978 - October 8, 1992)** <br>\n",
        "**Objectives: Venus Orbit** <br>\n",
        "Pioneer Venus 1 was the first of a two-spacecraft orbiter-probe tandem sent with the goal of studying the Venusian atmosphere. Using radar, the spacecraft was able to map the surface and discovered that Venus is generally smoother than Earth despite boasting both a mountain higher than Everest and a chasm deeper than that of our own Grand Canyon. It confirmed that the presence of a magnetic field was relatively non-existent, and the clouds were mostly composed of sulfuric acid. The mission lasted 14 years when it was planned to last only eight months, and it ended its journey by burning up in the Venusian atmosphere.<br>\n",
        "**Pioneer Venus 2 (August 8, 1978 - December 9, 1978)** <br>\n",
        "**Objectives: Venus impact** <br>\n",
        "The second part of the joint Pioneer Venus missions, Venus 2 carried a large probe and three smaller probes (identical) tasked with collecting data as they would plummet towards the surface of Venus. Two probes would survive the impact (quite amazingly) and one was able to transmit data for 67.5 minutes! <br>\n",
        "**Magellan (May 4, 1989 - October 13, 1994)** <br>\n",
        "**Objectives: Venus Orbit** <br>\n",
        "As one of the most successful deep space missions to date, Magellan was the first spacecraft to image the entire surface of Venus and it led to several discoveries. It returned high-quality radar images of the Venusian terrain that showed evidence of Volcanism, tectonic movement (from long ago, most likely), powerful surface winds, miles of lava and magma channels. <br>\n",
        "**Galileo (October 18, 1989 - September 21, 2003)** <br>\n",
        "**Objectives: Study Jupiter but conducted a Venus flyby as well** <br>\n",
        "With the main objective of studying Jupiter, Galileo was first sent to Venus to study the thick toxic clouds of our neighbor. Using borrowed energy from Venus, it was able to slingshot back towards Earth, passing our home planet twice en route to Jupiter, the king of the planets. <br>\n",
        "**Venus Express (November 9, 2005 - December 16, 2014)**<br>\n",
        "**Objectives: Venus Orbit** <br>\n",
        "Venus Express was the first European spacecraft to orbit Venus. The original mission was planned and expected to last no longer than 500 days, however the mission went above and beyond and lasted much longer! The spacecraft was designed to study the atmosphere, plasma environment, and surface characteristics from a near-polar elliptical orbit. It revealed evidence for past oceans on the surface, a higher prevalence of lightning on Venus than Earth, and a huge atmospheric vortex at the south pole of the planet. <br>\n",
        "\n",
        "<font size = \"3\">**SATELLITES** <br>\n",
        "<font size = \"2\">    No satellites"
      ]
    },
    {
      "cell_type": "markdown",
      "metadata": {
        "id": "V1RqlezmLjLh",
        "colab_type": "text"
      },
      "source": [
        "<font size = \"5\">**EARTH** <br>\n",
        "<font size = \"3\">**ATMOSPHERE** <br>\n",
        "<font size = \"2\">Earth has an atmosphere that is composed of 78% Nitrogen, 21% Oxygen, and 1% other gasses (argon, carbon dioxide, neon). Earth maintains a very stable climate relative to other planets, and continually protects the surface from plenty of bombardments and radiation <br>\n",
        "<font size = \"3\">**HABITABILITY** <br>\n",
        "    <font size = \"2\">With hospitable temperatures and mix of chemicals, life thrives on Earth like nowhere else yet seen. This allows for the widespread presence of liquid water. It has yet to be seen how the ever-increasing threat of climate change will alter this masterpiece that has allowed for life to thrive. <br>\n",
        "<font size = \"3\">**COMPOSITION** <br>\n",
        "   <font size = \"2\"> Earth’s interior is composed of multiple layers, with an inner core, outer core, mantle and crust. The inner core (759 mile radius) is a solid sphere made of iron and nickel metals, with temperatures nearing 5,500 degrees Celsius. The outer core (1,400 mile radius) is made up of similar metals, however these metals are liquids and also very hot. The mantle is the thickest layer (1800 mile radius) , composed largely of molten rock. The crust goes about 19 miles deep on average, whereby it is thinner at the deepest trenches on Earth. <br>\n",
        "<font size = \"3\">**MISSIONS** <br>\n",
        "<font size = \"2\">HOME PLANET<br>\n",
        "<font size = \"3\">**SATELLITES** <br>\n",
        "<font size = \"2\">    **Moon** <br>\n",
        "The Moon is the only place beyond Earth where humans have set foot. The Moon helps stabilize Earth’s wobble on its axis during its rotation, which provides a stable climate suitable for life. Tides caused by the Moon also have played a huge role in shaping human civilization as well as biological behavior. Earth’s moon is the fifth largest of the 190+ moons orbiting planets in the solar system, and more than 105 spacecraft have been launched to it. With a lack of atmosphere and lack of liquid water, the moon is an unlikely candidate to harbor life, however there is much interest in future human missions to our closest neighbor. <br>\n"
      ]
    },
    {
      "cell_type": "markdown",
      "metadata": {
        "id": "E2-nQ7xRLjLj",
        "colab_type": "text"
      },
      "source": [
        "<font size = \"5\">**MARS** <br>\n",
        "<font size = \"3\">**ATMOSPHERE** <br>\n",
        "<font size = \"2\">Mars has a thin atmosphere made up mostly of carbon dioxide, nitrogen and argon gases. The winds on the surface are strong enough to create massive dust storms, and much of the planet experiences this. The sky is a hazy red tint that is a result of these widespread dust storms. The atmosphere is thin, so there isn’t much protection for the surface from bombardements as there would be on Earth.  <br>\n",
        "<font size = \"3\">**HABITABILITY** <br>\n",
        "    <font size = \"2\">The lack of liquid water and the sparse atmosphere lead experts to consider Mars as an unlikely place to find life, and if there were to be life, it would most likely be very different than that found on Earth, adapted to the Martian conditions. Instead, there is plenty of inquiry into Mars’ past - where there was a thicker atmosphere, Mars was warmer, and liquid water would flow on the surface.   <br>\n",
        "<font size = \"3\">**COMPOSITION** <br>\n",
        "   <font size = \"2\"> Mars has a dense core at its center, approximately ranging from 930 and 1300 miles in radius, and mainly composed of magnesium, aluminum, calcium, and potassium. The crust is anywhere between 6 to 30 miles deep, depending on the location on the surface. <br>\n",
        "<font size = \"3\">**MISSIONS** <br>\n",
        "<font size = \"2\"> **Mariner 1 (July 22, 1962 - July 22, 1962)** <br>\n",
        "**Objectives: Venus Flyby** <br>\n",
        "**InSight (May 5, 2018 - Present)** <br>\n",
        "**Objectives: Mars Landing** <br>\n",
        "InSight brought the first seismometer to Mars, and recorded sounds of Martian winds for the first time. Investigating the tectonic activity and deep interior of Mars, the mission seeks to answer the question and glean insights into how terrestrial planets form.  <br>\n",
        "**MAVEN (November 18, 2013 - Present)** <br>\n",
        "**Objectives: Mars Orbit** <br>\n",
        "MAVEN is currently orbiting the Red Planet, studying the structure and composition of the upper atmosphere. Since 2019, MAVEN has repositioned into a lower orbit in preparation to relay data for NASA’s Mars 2020 rover. The spacecraft was designed for two years but has enough fuel to operate through 2030. <br>\n",
        "**Curiosity (November 26, 2011 - Present)** <br>\n",
        "**Objectives: Mars Landing and Surface Exploration** <br>\n",
        "Curiosity is the largest and most profoundly advanced rover sent to the Red Planet. It carries a large array of instrumentation to which it scoops up soil and rocks and investigates details regarding the geology and chemistry of the Martian surface. It is able to travel up to 90 meters per hour on six wheels, amd is powered by a powerful radioisotope system that uses the heat of Plutonium decay. Some data in March 2013 indicated that Gale Crater, a site explored by the rover, was suitable for microbial life and deposits of water, carbon dioxide, sulfur dioxide and hydrogen sulfide were also present. <br>\n",
        "**Mars Reconnaissance Orbiter (August 12, 2005 - Present)** <br>\n",
        "**Objectives: Mars Orbit** <br>\n",
        "As of May 15, 2019, the orbiter had completed 60,000 orbits of the Red Planet. It is primarily tasked with collecting atmospheric science and weather data. It’s dynamic and powerful instruments allowed for imaging of large dust storms as well as directed analysis of a nearby comet. <br>\n",
        "**Mars Odyssey ( April 7, 2001 - Present)** <br>\n",
        "**Objectives: Mars Orbit**<br>\n",
        "Odyssey holds the record for the longest continually active spacecraft in orbit around a planet other than Earth. The main mission is to investigate the Martian environment and give insight into potential hazards faced by future exploration missions. <br>\n",
        "**Viking 1 (August 20, 1982 - November 11, 1982)** <br>\n",
        "**Objectives: Mars Landing and Orbit** <br>\n",
        "Viking 1 made the first truly successful landing on Mars. The first in a pair of complex deep space probes designed to analyze and return data that would give insight into the possibility of life on mars. Once landed, the spacecraft took high-quality photographs and panoramas. Instruments recorded helpful surface temperatures, analyzed soil samples, and processed data through an onboard biological laboratory that included a gas chromatograph mass spectrometer. <br>\n",
        "**Viking 2 (September 9, 1975 - April 12, 1980)** <br>\n",
        "**Objectives: Mars Landing and Orbit** <br>\n",
        "The second spacecraft  in a two-part mission designed to explore Mars with exceptional detail, Viking 2 first entered orbit then made the landing, where both Viking craft returned 52,663 images of Mars and mapped approximately 97% of the surface at a resolution of 984 feet. The soil samples gathered gave similar insights as that of Viking 1’s - inconclusive evidence that life does or did once exist on the planet. Experts believe that the Martian soil contained reactants created by the ultraviolet bombardment of the soil that could produce characteristics of living organisms in Earth soil. <br>\n",
        "**Mars Observer (September 25, 1992 - August 22, 1993)** <br>\n",
        "**Objectives: Mars Orbit** <br>\n",
        "Mars Observer was planned to conduct a high-resolution photography mission of Mars. However - just two days prior to its planned entry into the Red Planet’s orbit, the spacecraft stopped sending telemetry (as planned) but was never heard from again. <br> \n",
        "**Mars Global Surveyor (November 7, 1996 - November 21, 2006)** <br>\n",
        "**Objectives: Mars Orbit** <br>\n",
        "Global Surveyor would go on to spend nine years in orbit above Mars, setting a longevity record that was only later broken by Mars Odyssey. The spacecraft was a pioneer of the aerobraking technique, employing a series of dips into the planet’s atmosphere to slow the spacecraft and to refine it’s orbital trajectories. It returned more than 240,000 images , and scouted the landing sights for the Spirit, Opportunity, Curiosity and Phoenix Landers. It also doubled as a communications relay for rovers navigating on the surface.<br>\n",
        "**Pathfinder (December 4, 1996 - September 27, 1997)** <br>\n",
        "**Objectives: Mars Landing** <br>\n",
        "Pathfinder was designed with the goal of pioneering a low-cost way of delivering scientific instrumentation and a free ranging rover to the Martian surface. Pathfinder was innovative, economical, and highly effective in the scope of mission design. In addition to being a marvel of engineering and technology, it provided very significant data on Martian geology and meteorology. Pathfinder transmitted more than 16,500 images and 8.5 million measurements of atmospheric pressure, temperature, and wind speeds. <br>\n",
        "**Mars Climate Orbiter (December 11, 1998 - September 23, 1999)** <br>\n",
        "**Objectives: Mars Orbit** <br>\n",
        "Climate Orbiter was designed to orbit Mars and study the planetary climate data and climate history, as well as make discoveries regarding presumed water reserves buried underground. It was also intended to serve as a communications relay for the Mars Polar Lander. A navigation error caused by a failure to translate English units to metric was missed and the mission was unsuccessful. <br>\n",
        "**Mars Polar Lander /Deep Space 2 ( January 3, 1999 - December 3, 1999)** <br>\n",
        "**Objectives: Mars Landing** <br>\n",
        "Polar Lander was designed to land near the south polar cap of the Red Planet, designed to dig for water-ice with a 2 meter long robotic arm. Two small probes called Deep Space 2 were also hitchhiking a ride to Mars with the goals of impacting the surface to test new technologies. All three probes would end up crashing after a sensor malfunction. The latter Phoenix lander, which would arrive in 2008, eventually carried out most of the Polar Lander’s tasks. <br>\n",
        "**Spirit ( June 10, 2003 - May 25, 2011)** <br>\n",
        "**Objectives: Mars surface exploration** <br>\n",
        "The Spirit rover and its twin Opportunity studied the history of climate and water at locations on the Martian surface that were potentially favorable to life. Spirit’s data revealed that Mars was once much wetter than it is now, and being the powerful workhorse it was, the rover operated for six years, 2 months and nineteen days, which was more than 25 times longer than its  original and intended lifetime. In total, the rover would go on to travel around 4.8 miles across the Martian surface. The mission would end when the rover was marooned. The robot has since been silent since 2010. <br>\n",
        "**Opportunity (July 8, 2003 - June 10, 2018)** <br>\n",
        "**Objectives: Mars Surface Exploration** <br>\n",
        "One of the most successful interplanetary missions, Opportunity found that Mars may have once been able to sustain microbial life. Exceeding its life expectancy by 60 times and travelling more than 28 miles on the Martian surface - the rover profoundly advanced imaging and scientific instrumentation returned panoramas, dust sample studies, and data obtained via various spectrometers on board. It reached its final resting spot in Perseverance valley, having traversed large swaths of Martian terrain. A historic planet-wide dust storm reduced the energy available to the rover, and the last signal was received on June 10, 2018. <br>\n",
        "**Phoenix ( August 4, 2007 - November 10, 2008)** <br>\n",
        "**Objectives: Mars Landing** <br>\n",
        "The Phoenix lander made great strides in Martian Landings - it landed farther north than any previous spacecraft. The lander verified the presence of water-ice on the Martian subsurface, which was initially detected via remote sensing by Mars Odyssey in 2002. Phoenix also sent back more than 25,000 images. The Martian winter eventually damaged the lander as thick Carbon Dioxide ice built up, damaging the fragile solar arrays, ending the project in May of 2010. <br> \n",
        "**Mariner 3 (November 5, 1964 - November 6, 1964)** <br>\n",
        "**Objectives: Mars Flyby** <br>\n",
        "Mariner 3 was designed to take photos of Mars after journeying for eight months through interplanetary space. However, the spacecraft lost power eight hours after launch its solar panels never unfurled. The spacecraft failed to achieve Mars trajectory, and it has hence been in heliocentric orbit. <br> \n",
        "**Mariner 4 (November 28, 1964 - December 31, 1967)** <br>\n",
        "**Objectives: Mars Flyby** <br>\n",
        "An early success for the US space program, the mission flew by Mars on July 15, 1965 and took the first photos from another planet in deep space.  <br>\n",
        "**Mariner 6 (February 25, 1969 - mid 1971)** <br>\n",
        "**Objectives: Mars Flyby** <br>\n",
        "Mariner 6 and its twin Mariner 7 were designed to make close flybys of Mars to look for signs of life and to develop technology for future missions to the Red Planet. Photos returned showed a chaotic and heavily cratered surface, as well as features that had already been observed from Earth. <br>\n",
        "**Mariner 7 (March 27. 1969 - mid 1971)** <br>\n",
        "**Objectives: Mars Flyby** <br>\n",
        "Making a close flyby of Mars just five days after Mariner 6, Mariner 7 took photos of the Martian south pole after Mariner 6’s flyby piqued mission control’s interests. <br>\n",
        "**Mariner 8 (May 9, 1971 - May 9, 1971)** <br>\n",
        "**Objectives: Mars Orbit** <br>\n",
        "Mariner 8 was designed to last at least 90 days and gather data on the Martian atmosphere and surface. The launch vehicle malfunctioned and the spacecraft reentered the Earth’s atmosphere north of Puerto Rico. The malfunction was attributed to a faulty integrated circuit in the pitch guidance module that led to an ill-performed engine-payload separation directed by the flight control system. <br>\n",
        "**Mariner 9 (May 30, 1971 - October 27, 1972)** <br>\n",
        "**Objectives: Mars Orbit** <br>\n",
        "Mariner 9 beat the Soviet Mars 2, a USSR spacecraft that had an 11 day head start to Mars, becoming the first spacecraft to orbit another planet. The orbiter mapped 85% of the Martian surface and send back more than 7,000 pictures including but not limited to Olympus Mons, Valles Marineris, Phobos and Deimos (the two Martian Satellites). <br>\n",
        "<font size = \"3\">**SATELLITES** <br>\n",
        "<font size = \"2\">\n",
        "**Phobos** <br> \n",
        "Phobos is the larger of the two moons orbiting the planet Mars. It orbits Mars about three times a day, and is 27 x 22 x 18 kilometers in diameter. It was discovered on August 17, 1877 by Asaph Hall, the person who discovered Deimos, the smaller of Mars’ two moons a little less than a week prior. The moon Phobos is on a collision course with Mars, nearing the planet at a rate of 1.8 Meters every hundred years. <br>\n",
        "**Deimos** <br>\n",
        "Deimos is the smaller of the two moons orbiting the planet Mars. Orbiting it’s host planet once every 30 hours, the small moon is only 15 x 12 x 11 kilometers in diameter, and was discovered on August 11, 1877. <br>\n"
      ]
    },
    {
      "cell_type": "markdown",
      "metadata": {
        "id": "cLVC0zLzLjLk",
        "colab_type": "text"
      },
      "source": [
        "<font size = \"5\">**JUPITER** <br>\n",
        "<font size = \"3\">**ATMOSPHERE** <br>\n",
        "<font size = \"2\">The atmosphere of Jupiter has three different layers. The top layer is made of ammonia ice, the middle, of ammonium hydrosulfide crystals, the innermost, of water ice and vapor. Wind speeds can reach up to 335 miles per hour and large storms such as the Great Red Spot are easily visible. <br>\n",
        "<font size = \"3\">**HABITABILITY** <br>\n",
        "    <font size = \"2\">With the composition of its atmosphere, the cold temperatures, and pressure, Jupiter is an unlikely place to find life. However, some of Jupiter’s moons could be possible places for life. <br>\n",
        "<font size = \"3\">**COMPOSITION** <br>\n",
        "   <font size = \"2\"> Jupiter has the largest ocean in the solar system, which is made of extremely compressed hydrogen. It is thought that the liquid is electrically conductive because of the enormous pressure which causes the electrons to pop off the hydrogen atom. It is unknown if the core is liquid or solid but predicted temperatures at the center are up to 90,032 degrees Fahrenheit. <br>\n",
        "<font size = \"3\">**MISSIONS** <br>\n",
        "<font size = \"2\"> **Juno(August 5, 2011 - Present)** <br>\n",
        "**Objectives: Study Jupiter** <br>\n",
        "Juno was designed  to orbit Jupiter and collect data on the planet’s composition,gravitational field, magnetic field, and magnetosphere, as well as investigate the core, water in the atmosphere, mass distribution, and wind speeds. The probe carries figurines of Galileo, the Roman god Jupiter and his wife Juno. Juno also has broken the record for the farthest distance for a spacecraft powered by solar energy. <br>\n",
        "**Pioneer 10(March 2, 1972 - January 23, 2003)** <br>\n",
        "**Objectives: Jupiter Flyby** <br>\n",
        "Pioneer 10 was the first NASA mission to the outer planets and produced images of the Jovian moons: Callisto, Ganymede, and Europa as well as multiple images of Jupiter. Pioneer 10 marked the beginning of exploration into further reaches of space. <br>\n",
        "**Pioneer 11(April 6, 1973 - November 24, 1995)** <br>\n",
        "**Objectives: Jupiter Flyby, Saturn Flyby** <br>\n",
        "Pioneer 11 returned the first pictures of the polar regions of  Jupiter. The spacecraft repeatedly entered Jupiter’s bow shock, and discovered that the Jovian magnetosphere constantly changes its boundaries as it is bombarded by solar winds. It also returned about 200 images of the moons orbiting the gas giant, finally using gravitational assist to slingshot its way towards Saturn for the second flyby of it’s mission. <br>\n",
        "**Voyager 1 (Sept 5, 1977 - Present)**\n",
        "**Objectives: Jupiter Flyby, Saturn Flyby** <br>\n",
        "No spacecraft has gone further than Voyager 1. Among the discoveries of Voyager 1 is the presence of active volcanoes on Io which suggested that the sulfur and oxygen in Jovian space were likely from Io. In addition, Voyager 1 discovered two new moons of Jupiter, Thebe and Metis. <br>\n",
        "**Voyager 2(Aug 20, 1977 - Present)** <br>\n",
        "**Objectives: Jupiter Flyby, Saturn Flyby, Uranus Flyby, Neptune Flyby** <br>\n",
        "Voyager 2 is the twin to Voyager 1 and is the only spacecraft to study all four outer planets from close range. In its observations of Jupiter, it explored the planet’s magnetosphere and moons in greater detail than had ever before. It also showed changes that had occurred since the passage of Voyager 1. In addition, Voyager 1 imaged Io and the changes in the moon's surface as well as discovering a new ring of Jupiter and a new moon. <br>\n",
        "**Galileo (October 18, 1989 - September 21, 2003)** <br>\n",
        "**Objectives: Jupiter system exploration** <br>\n",
        "Galileo was the first to fly past an asteroid (Gaspra) and the first to discover a satellite of an asteroid, the tiny Dactyle orbiting asteroid Ida. It discovered an intense radiation belt above Jupiter’s cloud tops, helium in the same concentration as the sun, resurfacing on the moon Io because of volcanism and a magnetic field at Ganymede. The orbiter also sampled the atmosphere of a gas planet for the first time done by any spacecraft. Galileo’s data paved the way for the creation of the first detailed maps of Jupiter’s major moons. Also gave rise to much of the detail surrounding the magnetic field and radiation belts of the system. <br> \n",
        "**Ulysses (October 6, 1990 - June 30, 2009)** <br>\n",
        "**Objectives: Heliocentric Orbit** <br>\n",
        "The Ulysses mission performed jointly by the ESA and NASA performed nearly three complete orbits of the sun during the lifespan of the mission’s 18 years of service. The principal findings made by the mission suggest that there was a gradual weakening in solar wind over time. Further data suggested that the solar magnetic field at the poles of the sun were weaker than previously assumed. It also determined that the sun’s magnetic field reverses in direction every 11 years. It also encountered the comet Hyakutake, revealing that comet tails are far longer than what was previously expected. <br>\n",
        "**Pioneer 10 (March 2, 1972 - January 23, 2003)** <br>\n",
        "**Objectives: Jupiter Flyby** <br>\n",
        "Pioneer 10 was NASA’s first mission to the outer planets of the solar system.  It was the first spacecraft placed on a trajectory to escape into interstellar space, it was the first spacecraft to fly beyond Mars, the first to fly through the main asteroid belt, the first to fly past Juipter, and the first to use all-nuclear electric power. It encountered Jupiter;s magnetosphere and returned better images of the planet than had been possible from Earth. <br>\n",
        "**New Horizons(Jan 19, 2006 - Present)** <br>\n",
        "**Objectives: Pluto Flyby, Kuiper Belt Flyby** <br>\n",
        "New Horizons captured more detailed pictures of Io, Ganymede, and Europa as well as gathering new data on Jupiter’s rings and atmosphere. <br>\n",
        "<font size = \"3\">**SATELLITES** <br>\n",
        "<font size = \"2\">\n",
        "Jupiter has 79 moons that we've discovered. The largest of these are the Galilean moons: Io, Europa, Ganymede, Callisto. <br>\n",
        "**Io:** Io is slightly bigger than the Earth’s moon. It is the most volcanically active body within the solar system. It is heated through tidal forces by Jupiter. These tidal forces can make the planet bulge by up to 330 feet. Io is resurfaced by molten lava from \n",
        "volcanic activity. Life does not seem possible on Io because of this extreme activity. <br>\n",
        "**Europa:** Europa is probably the most likely place of discovering life in the solar system besides Earth. There is evidence to support that Europa has a subsurface ocean and the right chemicals to create life. However, a sufficient source of energy is the only concern for Europa since photosynthesis isn’t efficient this far from the Sun. It's possible however that there are hydrothermal vents that could provide a source of energy, similar to extremophiles that live on Earth.  <br>\n",
        "**Ganymede:** Ganymede is the largest moon in our solar system and the only one with a magnetic field. As a result Ganymede has a thin atmosphere of oxygen but it is not enough to support life at least as we know it. Ganymede is made of three primary layers: a sphere of metallic iron, a shell of rock mantle, and a very thick shell (perhaps 487 miles thick) of ice. There is evidence that there might also be a subsurface ocean similar to Europa. <br>\n",
        "**Callisto:** Callisto has an icy  surface heavily covered in craters. However, just like Europa and Ganymede there seems to be a possibility that there is a salty underground ocean that gives it a chance to support life. <br>\n",
        "\n"
      ]
    },
    {
      "cell_type": "markdown",
      "metadata": {
        "id": "IUWcVq8SLjLk",
        "colab_type": "text"
      },
      "source": [
        "<font size = \"5\">**SATURN** <br>\n",
        "<font size = \"3\">**ATMOSPHERE** <br>\n",
        "<font size = \"2\">Saturn is a gas giant composed of 75% of hydrogen and 25% helium with traces of methane and ice. The winds can reach up to around 1100 miles per hour in the upper atmosphere, making it one of the windiest places in the solar system. <br>\n",
        "<font size = \"3\">**HABITABILITY** <br>\n",
        "    <font size = \"2\">With the composition of its atmosphere, the cold temperatures, and pressure, Saturn is an unlikely place to find life.However, some of Saturn’s moons could be possible places for life. <br>\n",
        "<font size = \"3\">**COMPOSITION** <br>\n",
        "   <font size = \"2\"> Saturn’s core is composed of iron and nickel surrounded by rock. Over that is a layer of liquid metallic hydrogen underneath a layer of liquid hydrogen. There is no surface to Saturn, the planet is made of the gases mentioned in the atmosphere section. An interesting fact about saturn is that it is the only planet in the solar system with a density less than that of water. <br>\n",
        "<font size = \"3\">**MISSIONS** <br>\n",
        "<font size = \"2\"> **Cassini (October 15, 1997 - September 15, 2017)** <br>\n",
        "**Objectives: Explore Saturn (literally)** <br>\n",
        "Cassini is a remarkable pinnacle of interplanetary exploration. The spacecraft executed 2.5 million commands, conducted 162 flybys of Saturn’s moons, took over 450,000 images, and revealed astounding revelations into what kinds of worlds may harbor life. It revealed Titan to be one of the most Earth-like worlds ever encountered, found that each moon was incredibly unique and intriguing in their own ways, observed seasonal changes occurring on Saturn, discovered the complexity of Saturn’s rings, and deployed the Huygen’s probe which would be the first human-made object to land on a world in the distant outer solar system. <br>\n",
        "**Huygens (October 15, 1997 - January 14, 2005)** <br>\n",
        "**Objectives: Titan Landing** <br>\n",
        "The ESA Huygen’s probe was designed to study the mysterious atmosphere of Titan (a moon of Saturn) as it parachuted down to the surface. It carried cameras to return photos of the mysterious moon, and was delivered to the system via the Cassini orbiter. During its descent, the probe returned visual feedback and data that excited those in mission control. Seas of liquid Methane, organic-rich sludge and hydrocarbon lakes were all evidenced as a result of this landing. <br>\n",
        "**Voyager 1  (Sept 5, 1977 - Present)** <br>\n",
        "**Objectives: Jupiter Flyby, Saturn Flyby** <br>\n",
        "Voyager 1’s flyby of Saturn was nothing short of spectacular. It returned photos of the moons Titan, Mimas, Enceladus, Tethys, Dione, and Rhea. Initial images of Titan really sparked the interest of mission control, as they found the potential presence of liquid compounds such as Methane and water worthy of further investigations by future missions. <br>\n",
        "**Voyager 2(Aug 20, 1977 - Present)** <br>\n",
        "**Objectives: Jupiter Flyby, Saturn Flyby, Uranus Flyby, Neptune Flyby** <br>\n",
        "Voyager 2’s flyby of Saturn consisted of insightful  images into the diverse and vibrant rings of the planet Saturn. The spacecraft also detailed the F-ring and the shepherding moons previously spotted by Voyager 1. Data suggests that Saturn’s A-ring was perhaps only about 300 meters thick<br>\n",
        "**Pioneer 11 (April 6, 1973 - November 24, 1995)** <br>\n",
        "**Objectives: Jupiter Flyby, Saturn Flyby** <br>\n",
        "After having a successful flyby of Jupiter, Pioneer 11 made its way to Saturn. It verified the presence of a magnetic field around the second largest planet in the solar system, and returned images of the intriguing moon Titan, to which it was described as a “Fuzzy orange satellite”. <br>\n",
        "<font size = \"3\">**SATELLITES** <br>\n",
        "<font size = \"2\">\n",
        "Saturn has 82 known moons. Of these, the most important being Titan and Enceladus <br>\n",
        "**Titan:** Titan is the only moon in the solar system with a dense atmosphere and is the only body in the solar system besides Earth that has bodies of liquid methane and ethane on its surface such as lakes, rivers, and seas. The atmosphere of Titan is mainly composed of nitrogen and it has an earthlike rain cycle. Cassini revealed that there is a subsurface ocean on Titan providing further possibilities for life.<br>\n",
        "**Enceladus:** Enceladus is another moon with strong possibilities for life. It has a liquid ocean water underneath its surface and since there are sprays into space, scientists can analyse it. From sample scientists have determined that Enceladus has most of the chemical ingredients for life. It is also likely that ocean vents exist which spew out mineral rich water. <br>"
      ]
    },
    {
      "cell_type": "markdown",
      "metadata": {
        "id": "MepWDs-XLjLl",
        "colab_type": "text"
      },
      "source": [
        "<font size = \"5\">**URANUS** <br>\n",
        "<font size = \"3\">**ATMOSPHERE** <br>\n",
        "<font size = \"2\">Uranus’ atmosphere is composed of mainly hydrogen and helium. The methane in the upper atmosphere is where it gets its blue hue. Winds can reach up to 560 miles per hour and blow in retrograde at the equator.<br>\n",
        "<font size = \"3\">**HABITABILITY** <br>\n",
        "    <font size = \"2\">With the composition of its atmosphere, the cold temperatures, and pressure, Uranus is an unlikely place to find life.<br>\n",
        "<font size = \"3\">**COMPOSITION** <br>\n",
        "   <font size = \"2\"> Uranus is one of the two ice giants in our solar system. It is composed of a hot dense fluid of water,methane, and ammonia. It is the second least dense planet in the solar system and is slightly larger than Neptune.<br>\n",
        "<font size = \"3\">**MISSIONS** <br>\n",
        "<font size = \"2\"> **Voyager 2 (Aug 20, 1977 - Present)** <br>\n",
        "**Objectives: Jupiter Flyby, Saturn Flyby, Uranus Flyby, Neptune Flyby** <br>\n",
        "As the first human-made object to fly past Uranus, Voyager 2 discovered that the wind speeds on the planet were as high as 724 kilometers per hour, and that the ring varied extremely in thickness and density. The spacecraft also returned fascinating images of the five major moons Miranda, Oberon, Ariel, Umbriel, and Titania. <br>\n",
        "<font size = \"3\">**SATELLITES** <br>\n",
        "<font size = \"2\">\n",
        "Uranus has 27 moons and they are named after Shakespeare characters. None however seem probable for life however <br>"
      ]
    },
    {
      "cell_type": "markdown",
      "metadata": {
        "id": "T4pIwaGDLjLl",
        "colab_type": "text"
      },
      "source": [
        "<font size = \"5\">**NEPTUNE** <br>\n",
        "<font size = \"3\">**ATMOSPHERE** <br>\n",
        "<font size = \"2\">Neptune’s atmosphere is made up of hydrogen and helium just like the other gas giants. Similar to Uranus, it gets its signature blue color from methane in the upper atmosphere. Neptune is the windiest planet in the solar system with speeds up to 1200 miles per hour.<br>\n",
        "<font size = \"3\">**HABITABILITY** <br>\n",
        "    <font size = \"2\">With the composition of its atmosphere, the cold temperatures, and pressure, Neptune is an unlikely place to find life.<br>\n",
        "<font size = \"3\">**COMPOSITION** <br>\n",
        "   <font size = \"2\"> Neptune is the other ice giant and has a very similar composition to Uranus. Scientists however think that Neptune has an extremely hot ocean as its surface is held in place by the high pressure from the planet’s gravity.<br>\n",
        "<font size = \"3\">**MISSIONS** <br>\n",
        "<font size = \"2\"> **Voyager 2 (Aug 20, 1977 - Present)** <br>\n",
        "**Objectives: Jupiter Flyby, Saturn Flyby, Uranus Flyby, Neptune Flyby** <br>\n",
        "Voyager 2 made great discoveries in detailing the activity on Neptune, which was found to be much more active than what was previously believed. With atmospheric wind speeds close to 1,100 kilometers per hour and major features such as the great dark spot, the lesser great dark spot, and scooter, there was plenty to be observed. <br>\n",
        "<font size = \"3\">**SATELLITES** <br>\n",
        "<font size = \"2\">\n",
        "Neptune has 14 moons. Triton however is the most notable. Triton is the only large moon in the solar system with a retrograde orbit.  Triton has a thin atmosphere which is most likely a result of ice volcanoes. Triton's icy surface reflects 70% of the sunlight that reaches it, making it one of the coldest objects in the solar system. <br>"
      ]
    },
    {
      "cell_type": "markdown",
      "metadata": {
        "id": "twD1HkPQLjLm",
        "colab_type": "text"
      },
      "source": [
        "<font size = \"5\">**PLUTO** <br>\n",
        "<font size = \"3\">**ATMOSPHERE** <br>\n",
        "<font size = \"2\">Pluto has a thin atmosphere which varies in thickness as it completes its orbit. It is mainly composed of molecular nitrogen with traces of methane and carbon monoxide.<br>\n",
        "<font size = \"3\">**HABITABILITY** <br>\n",
        "    <font size = \"2\">Pluto seems like an unlikely place for life due to its extremely cold environment <br>\n",
        "<font size = \"3\">**COMPOSITION** <br>\n",
        "   <font size = \"2\"> Pluto is a dwarf planet two thirds the size of the moon and is probably made of a rocky core surrounded by a mantle of water ice and coated in ices of methane and ammonia. Pluto’s surface has terrain such as mountains, valleys, plains and craters. There is some evidence of resurfacing on Pluto suggesting that there are tectonic forces.<br>\n",
        "<font size = \"3\">**MISSIONS** <br>\n",
        "<font size = \"2\"> **New Horizons (Jan 19, 2006 - Present)** <br>\n",
        "**Objectives: Pluto Flyby, Kuiper Belt Flyby** <br>\n",
        "The first spacecraft to explore Pluto up-close, the spacecraft returned key observations about the dwarf planet such as the presence of atmosphere that has quite a history of changes. Stunning photographs revealed the large heart-shaped nitrogen glacier on the surface, and revealed that there may be an internal water-ice ocean underneath the surface today. Images from Charon showed an enormous equatorial-extension tectonic belt, suggesting a long-gone water-ice ocean. In all, New Horizons showed that the Pluto system was much more complex than previously anticipated. \n",
        " <br>\n",
        "<font size = \"3\">**SATELLITES** <br>\n",
        "<font size = \"2\">\n",
        "Pluto’s has 5 moons, which just like Pluto are rocky and cold. The largest moon, Charon, is only about half the size of Pluto, and because of its large size relative to its host planet, the two obit one another like a double-planet.  <br>"
      ]
    },
    {
      "cell_type": "markdown",
      "metadata": {
        "id": "qtK6DktxLjLm",
        "colab_type": "text"
      },
      "source": [
        "<font size = \"3\"> **Python Libraries and Documentation** <br>  \n",
        "<font size = \"2\">  **Numpy** <br>\n",
        "https://numpy.org/doc <br>\n",
        "**Matplotlib** <br>\n",
        "https://matplotlib.org/index.html# <br>\n",
        "**AstroPy** <br>\n",
        "https://docs.astropy.org/en/stable/ <br>\n",
        "**AstroQuery** <br>\n",
        "https://astroquery.readthedocs.io/en/latest/ <br>\n"
      ]
    },
    {
      "cell_type": "markdown",
      "metadata": {
        "id": "Iff-xDVILjLn",
        "colab_type": "text"
      },
      "source": [
        "<font size = \"3\"> **Research Sites** <br>\n",
        "<font size = \"2\"> https://solarsystem.nasa.gov/planets/mercury/in-depth/ <br>\n",
        "https://solarsystem.nasa.gov/planets/venus/in-depth/ <br>\n",
        "https://solarsystem.nasa.gov/planets/earth/in-depth/ <br>\n",
        "https://solarsystem.nasa.gov/planets/mars/in-depth/ <br>\n",
        "https://solarsystem.nasa.gov/planets/saturn/in-depth/ <br>\n",
        "https://www.esa.int/Science_Exploration/Space_Science/Cassini-Huygens/Saturn_s_atmosphere <br>\n",
        "https://nssdc.gsfc.nasa.gov/planetary/planets/saturnpage.html <br>\n",
        "https://solarsystem.nasa.gov/missions/magellan/in-depth/ <br>\n",
        "https://solarsystem.nasa.gov/missions/mariner-10/in-depth/ <br>\n",
        "https://solarsystem.nasa.gov/missions/pioneer-venus-2/in-depth/ <br>\n",
        "https://solarsystem.nasa.gov/missions/pioneer-venus-1/in-depth/ <br>\n",
        "https://solarsystem.nasa.gov/missions/mariner-05/in-depth/ <br>\n",
        "https://solarsystem.nasa.gov/missions/mariner-02/in-depth/ <br>\n",
        "https://solarsystem.nasa.gov/missions/mariner-01/in-depth/ <br>\n",
        "https://solarsystem.nasa.gov/missions/galileo/overview/ <br>\n",
        "https://solarsystem.nasa.gov/missions/venus-express/in-depth/ <br>\n",
        "https://solarsystem.nasa.gov/missions/insight/in-depth/ <br>\n",
        "https://solarsystem.nasa.gov/missions/maven/in-depth/ <br>\n",
        "https://solarsystem.nasa.gov/missions/mars-reconnaissance-orbiter/in-depth/ <br>\n",
        "https://solarsystem.nasa.gov/missions/mars-odyssey/in-depth/ <br>\n",
        "https://solarsystem.nasa.gov/missions/viking-1/in-depth/ <br>\n",
        "https://solarsystem.nasa.gov/missions/viking-2/in-depth/ <br>\n",
        "https://solarsystem.nasa.gov/missions/mars-observer/in-depth/\n",
        "https://solarsystem.nasa.gov/missions/mars-global-surveyor/in-depth/ <br>\n",
        "https://solarsystem.nasa.gov/missions/mars-pathfinder/in-depth/ <br>\n",
        "https://solarsystem.nasa.gov/missions/mars-climate-orbiter/in-depth/ <br>\n",
        "https://solarsystem.nasa.gov/missions/mars-polar-lander-deep-space-2/in-depth/ <br>\n",
        "https://solarsystem.nasa.gov/missions/spirit/in-depth/ <br>\n",
        "https://solarsystem.nasa.gov/missions/opportunity/in-depth/ <br>\n",
        "https://solarsystem.nasa.gov/missions/phoenix/in-depth/ <br>\n",
        "https://solarsystem.nasa.gov/missions/mariner-03/in-depth/ <br>\n",
        "https://solarsystem.nasa.gov/missions/mariner-04/in-depth/ <br>\n",
        "https://solarsystem.nasa.gov/missions/mariner-06/in-depth/ <br>\n",
        "https://solarsystem.nasa.gov/missions/mariner-07/in-depth/ <br>\n",
        "https://solarsystem.nasa.gov/missions/mariner-08/in-depth/ <br>\n",
        "https://solarsystem.nasa.gov/missions/mariner-09/in-depth/ <br>\n",
        "https://solarsystem.nasa.gov/moons/earths-moon/overview/ <br>\n",
        "https://solarsystem.nasa.gov/moons/mars-moons/phobos/in-depth/ <br>\n",
        "https://solarsystem.nasa.gov/moons/mars-moons/deimos/in-depth/ <br>\n",
        "https://solarsystem.nasa.gov/missions/ulysses/in-depth/ <br>\n",
        "https://solarsystem.nasa.gov/missions/pioneer-10/in-depth/ <br>\n",
        "https://solarsystem.nasa.gov/missions/pioneer-11/in-depth/ <br>\n",
        "https://solarsystem.nasa.gov/missions/cassini/overview/ <br>\n",
        "https://solarsystem.nasa.gov/moons/saturn-moons/overview/?page=0&per_page=40&order=name+asc&search=&placeholder=Enter+moon+name&condition_1=38%3Aparent_id&condition_2=moon%3Abody_type%3Ailike <br>\n",
        "https://solarsystem.nasa.gov/moons/saturn-moons/enceladus/in-depth/ <br>\n",
        "https://solarsystem.nasa.gov/missions/pioneer-11/in-depth/ <br>\n"
      ]
    }
  ]
}